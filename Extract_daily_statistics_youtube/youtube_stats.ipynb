{
 "cells": [
  {
   "cell_type": "code",
   "execution_count": 1,
   "metadata": {},
   "outputs": [],
   "source": [
    "import pandas as pd\n",
    "import time\n",
    "import requests\n",
    "from bs4 import BeautifulSoup\n",
    "import json\n",
    "import random\n",
    "import time\n",
    "from datetime import datetime\n",
    "import datetime\n",
    "import os\n",
    "import numpy as np \n",
    "from tqdm import tqdm\n",
    "from configparser import ConfigParser"
   ]
  },
  {
   "cell_type": "markdown",
   "metadata": {},
   "source": [
    "# Youtube Channels stats"
   ]
  },
  {
   "cell_type": "markdown",
   "metadata": {},
   "source": [
    "### Requests Option 1"
   ]
  },
  {
   "cell_type": "code",
   "execution_count": 14,
   "metadata": {},
   "outputs": [],
   "source": [
    "config = ConfigParser()\n",
    "config.read('config.cfg')\n",
    "\n",
    "API_KEY = config['secrets']['api_key']\n",
    "CHANNEL_ID = \"UC_x5XG1OV2P6uZZ5FSM9Ttw\"\n",
    "\n",
    "url_channel_stats = f'https://youtube.googleapis.com/youtube/v3/channels?part=statistics&id={CHANNEL_ID}&key={API_KEY}'\n",
    "response_channels = requests.get(url_channel_stats)\n",
    "channel_stats = json.loads(response_channels.content)"
   ]
  },
  {
   "cell_type": "code",
   "execution_count": 16,
   "metadata": {},
   "outputs": [
    {
     "data": {
      "text/plain": [
       "{'kind': 'youtube#channelListResponse',\n",
       " 'etag': 'mQT4CtRMgXvQHoHnDlq-GcQevR4',\n",
       " 'pageInfo': {'totalResults': 1, 'resultsPerPage': 5},\n",
       " 'items': [{'kind': 'youtube#channel',\n",
       "   'etag': '970AOUV5s6o0rVo2fJF6UrvsGF4',\n",
       "   'id': 'UC_x5XG1OV2P6uZZ5FSM9Ttw',\n",
       "   'statistics': {'viewCount': '237195054',\n",
       "    'subscriberCount': '2330000',\n",
       "    'hiddenSubscriberCount': False,\n",
       "    'videoCount': '5962'}}]}"
      ]
     },
     "execution_count": 16,
     "metadata": {},
     "output_type": "execute_result"
    }
   ],
   "source": [
    "channel_stats"
   ]
  },
  {
   "cell_type": "markdown",
   "metadata": {},
   "source": [
    "### Requests Option 2 using googleapliclient"
   ]
  },
  {
   "cell_type": "code",
   "execution_count": 20,
   "metadata": {},
   "outputs": [],
   "source": [
    "from googleapiclient.discovery import build"
   ]
  },
  {
   "cell_type": "code",
   "execution_count": 21,
   "metadata": {},
   "outputs": [],
   "source": [
    "config = ConfigParser()\n",
    "config.read('config.cfg')\n",
    "\n",
    "API_KEY = config['secrets']['api_key']\n",
    "CHANNEL_ID = \"UC_x5XG1OV2P6uZZ5FSM9Ttw\"\n",
    "\n",
    "youtube = build(\"youtube\", \"v3\", developerKey=API_KEY)"
   ]
  },
  {
   "cell_type": "code",
   "execution_count": 22,
   "metadata": {},
   "outputs": [],
   "source": [
    "request = youtube.channels().list(\n",
    "    part=\"statistics\",\n",
    "    id=CHANNEL_ID\n",
    ")"
   ]
  },
  {
   "cell_type": "code",
   "execution_count": 23,
   "metadata": {},
   "outputs": [],
   "source": [
    "response = request.execute()"
   ]
  },
  {
   "cell_type": "code",
   "execution_count": 24,
   "metadata": {},
   "outputs": [
    {
     "data": {
      "text/plain": [
       "{'kind': 'youtube#channelListResponse',\n",
       " 'etag': 'mQT4CtRMgXvQHoHnDlq-GcQevR4',\n",
       " 'pageInfo': {'totalResults': 1, 'resultsPerPage': 5},\n",
       " 'items': [{'kind': 'youtube#channel',\n",
       "   'etag': '970AOUV5s6o0rVo2fJF6UrvsGF4',\n",
       "   'id': 'UC_x5XG1OV2P6uZZ5FSM9Ttw',\n",
       "   'statistics': {'viewCount': '237195054',\n",
       "    'subscriberCount': '2330000',\n",
       "    'hiddenSubscriberCount': False,\n",
       "    'videoCount': '5962'}}]}"
      ]
     },
     "execution_count": 24,
     "metadata": {},
     "output_type": "execute_result"
    }
   ],
   "source": [
    "response"
   ]
  },
  {
   "cell_type": "code",
   "execution_count": 9,
   "metadata": {},
   "outputs": [
    {
     "data": {
      "text/plain": [
       "{'Created_at': '23-12-27',\n",
       " 'Total_Views': 237179646,\n",
       " 'Subscribers': 2330000,\n",
       " 'Video_count': 5959}"
      ]
     },
     "execution_count": 9,
     "metadata": {},
     "output_type": "execute_result"
    }
   ],
   "source": [
    "channel_stats = response[\"items\"][0][\"statistics\"]\n",
    "\n",
    "date = pd.to_datetime(\"today\").strftime(\"%y-%m-%d\")\n",
    "\n",
    "data_channel = {\n",
    "    \"Created_at\": date,\n",
    "    \"Total_Views\": int(float(channel_stats[\"viewCount\"])),\n",
    "    \"Subscribers\": int(float(channel_stats[\"subscriberCount\"])),\n",
    "    \"Video_count\": int(float(channel_stats[\"videoCount\"]))\n",
    "}\n",
    "\n",
    "data_channel"
   ]
  },
  {
   "cell_type": "code",
   "execution_count": 10,
   "metadata": {},
   "outputs": [
    {
     "data": {
      "text/plain": [
       "2330000"
      ]
     },
     "execution_count": 10,
     "metadata": {},
     "output_type": "execute_result"
    }
   ],
   "source": [
    "data_channel[\"Subscribers\"]"
   ]
  },
  {
   "cell_type": "markdown",
   "metadata": {},
   "source": [
    "# Data function"
   ]
  },
  {
   "cell_type": "code",
   "execution_count": 11,
   "metadata": {},
   "outputs": [],
   "source": [
    "def get_stats(api_key, channel_id):\n",
    "    youtube = build(\"youtube\", \"v3\", developerKey=api_key)\n",
    "    request = youtube.channels().list(\n",
    "        part=\"statistics\",\n",
    "        id=channel_id\n",
    "    )\n",
    "    response = request.execute()\n",
    "    \n",
    "    channel_stats = response[\"items\"][0][\"statistics\"]\n",
    "    date = pd.to_datetime(\"today\").strftime(\"%Y-%m-%d\")\n",
    "\n",
    "    data_channel = {\n",
    "        \"Created_at\": date,\n",
    "        \"Total_Views\": int(float(channel_stats[\"viewCount\"])),\n",
    "        \"Subscribers\": int(float(channel_stats[\"subscriberCount\"])),\n",
    "        \"Video_count\": int(float(channel_stats[\"videoCount\"]))\n",
    "    }\n",
    "\n",
    "    return data_channel"
   ]
  },
  {
   "cell_type": "code",
   "execution_count": 12,
   "metadata": {},
   "outputs": [
    {
     "data": {
      "text/plain": [
       "{'Created_at': '2023-12-27',\n",
       " 'Total_Views': 237179646,\n",
       " 'Subscribers': 2330000,\n",
       " 'Video_count': 5959}"
      ]
     },
     "execution_count": 12,
     "metadata": {},
     "output_type": "execute_result"
    }
   ],
   "source": [
    "get_stats(API_KEY, CHANNEL_ID)"
   ]
  },
  {
   "cell_type": "markdown",
   "metadata": {},
   "source": [
    "# Channels to analize"
   ]
  },
  {
   "cell_type": "code",
   "execution_count": 13,
   "metadata": {},
   "outputs": [],
   "source": [
    "channels_name = [\"Codecademy\", \"GitHub\", \"Amazon Web Services\", \"Microsoft Azure\"]\n",
    "channels_ids = [\"UC5CMtpogD_P3mOoeiDHD5eQ\", \"UC7c3Kb6jYCRj4JOHHZTxKsQ\", \"UCd6MoB9NC6uYN2grvUNT-Zg\", \"UC0m-80FnNY2Qb7obvTL_2fA\"]"
   ]
  },
  {
   "cell_type": "code",
   "execution_count": 14,
   "metadata": {},
   "outputs": [
    {
     "data": {
      "text/html": [
       "<div>\n",
       "<style scoped>\n",
       "    .dataframe tbody tr th:only-of-type {\n",
       "        vertical-align: middle;\n",
       "    }\n",
       "\n",
       "    .dataframe tbody tr th {\n",
       "        vertical-align: top;\n",
       "    }\n",
       "\n",
       "    .dataframe thead th {\n",
       "        text-align: right;\n",
       "    }\n",
       "</style>\n",
       "<table border=\"1\" class=\"dataframe\">\n",
       "  <thead>\n",
       "    <tr style=\"text-align: right;\">\n",
       "      <th></th>\n",
       "      <th>Channel_name</th>\n",
       "      <th>Channel_id</th>\n",
       "    </tr>\n",
       "  </thead>\n",
       "  <tbody>\n",
       "    <tr>\n",
       "      <th>0</th>\n",
       "      <td>Codecademy</td>\n",
       "      <td>UC5CMtpogD_P3mOoeiDHD5eQ</td>\n",
       "    </tr>\n",
       "    <tr>\n",
       "      <th>1</th>\n",
       "      <td>GitHub</td>\n",
       "      <td>UC7c3Kb6jYCRj4JOHHZTxKsQ</td>\n",
       "    </tr>\n",
       "    <tr>\n",
       "      <th>2</th>\n",
       "      <td>Amazon Web Services</td>\n",
       "      <td>UCd6MoB9NC6uYN2grvUNT-Zg</td>\n",
       "    </tr>\n",
       "    <tr>\n",
       "      <th>3</th>\n",
       "      <td>Microsoft Azure</td>\n",
       "      <td>UC0m-80FnNY2Qb7obvTL_2fA</td>\n",
       "    </tr>\n",
       "  </tbody>\n",
       "</table>\n",
       "</div>"
      ],
      "text/plain": [
       "          Channel_name                Channel_id\n",
       "0           Codecademy  UC5CMtpogD_P3mOoeiDHD5eQ\n",
       "1               GitHub  UC7c3Kb6jYCRj4JOHHZTxKsQ\n",
       "2  Amazon Web Services  UCd6MoB9NC6uYN2grvUNT-Zg\n",
       "3      Microsoft Azure  UC0m-80FnNY2Qb7obvTL_2fA"
      ]
     },
     "execution_count": 14,
     "metadata": {},
     "output_type": "execute_result"
    }
   ],
   "source": [
    "channels = {\n",
    "    \"Channel_name\": channels_name,\n",
    "    \"Channel_id\": channels_ids\n",
    "}\n",
    "\n",
    "df_channels = pd.DataFrame(channels)\n",
    "\n",
    "df_channels"
   ]
  },
  {
   "cell_type": "code",
   "execution_count": 15,
   "metadata": {},
   "outputs": [
    {
     "data": {
      "text/plain": [
       "{'Created_at': '2023-12-27',\n",
       " 'Total_Views': 14681711,\n",
       " 'Subscribers': 340000,\n",
       " 'Video_count': 1705}"
      ]
     },
     "execution_count": 15,
     "metadata": {},
     "output_type": "execute_result"
    }
   ],
   "source": [
    "get_stats(API_KEY, df_channels[\"Channel_id\"][1])"
   ]
  },
  {
   "cell_type": "code",
   "execution_count": 16,
   "metadata": {},
   "outputs": [],
   "source": [
    "def channel_stats(df, api_key):\n",
    "    \n",
    "    date = []\n",
    "    views = []\n",
    "    suscriber= []\n",
    "    video_count = []\n",
    "    channel_name = []\n",
    "    \n",
    "    \n",
    "    for i in tqdm(range(len(df)), colour = \"green\"):\n",
    "        \n",
    "        stats_temp = get_stats(API_KEY, df_channels[\"Channel_id\"][i])\n",
    "        \n",
    "        date.append(stats_temp[\"Created_at\"])\n",
    "        views.append(stats_temp[\"Total_Views\"])\n",
    "        suscriber.append(stats_temp[\"Subscribers\"])\n",
    "        video_count.append(stats_temp[\"Video_count\"])\n",
    "        channel_name.append(df[\"Channel_name\"][i])\n",
    "\n",
    "        \n",
    "    data = {\n",
    "        \"Channel_name\": channel_name,\n",
    "        \"Subscribers\": suscriber,\n",
    "        \"Video_Count\": video_count,\n",
    "        \"Total_Views\": views,\n",
    "        \"created_at\": date\n",
    "    }\n",
    "    \n",
    "    df_channels_final = pd.DataFrame(data)\n",
    "    \n",
    "    return df_channels_final\n",
    "    "
   ]
  },
  {
   "cell_type": "code",
   "execution_count": 32,
   "metadata": {},
   "outputs": [
    {
     "data": {
      "text/html": [
       "<div>\n",
       "<style scoped>\n",
       "    .dataframe tbody tr th:only-of-type {\n",
       "        vertical-align: middle;\n",
       "    }\n",
       "\n",
       "    .dataframe tbody tr th {\n",
       "        vertical-align: top;\n",
       "    }\n",
       "\n",
       "    .dataframe thead th {\n",
       "        text-align: right;\n",
       "    }\n",
       "</style>\n",
       "<table border=\"1\" class=\"dataframe\">\n",
       "  <thead>\n",
       "    <tr style=\"text-align: right;\">\n",
       "      <th></th>\n",
       "      <th>Channel_name</th>\n",
       "      <th>Channel_id</th>\n",
       "    </tr>\n",
       "  </thead>\n",
       "  <tbody>\n",
       "    <tr>\n",
       "      <th>0</th>\n",
       "      <td>Codecademy</td>\n",
       "      <td>UC5CMtpogD_P3mOoeiDHD5eQ</td>\n",
       "    </tr>\n",
       "    <tr>\n",
       "      <th>1</th>\n",
       "      <td>GitHub</td>\n",
       "      <td>UC7c3Kb6jYCRj4JOHHZTxKsQ</td>\n",
       "    </tr>\n",
       "    <tr>\n",
       "      <th>2</th>\n",
       "      <td>Amazon Web Services</td>\n",
       "      <td>UCd6MoB9NC6uYN2grvUNT-Zg</td>\n",
       "    </tr>\n",
       "    <tr>\n",
       "      <th>3</th>\n",
       "      <td>Microsoft Azure</td>\n",
       "      <td>UC0m-80FnNY2Qb7obvTL_2fA</td>\n",
       "    </tr>\n",
       "  </tbody>\n",
       "</table>\n",
       "</div>"
      ],
      "text/plain": [
       "          Channel_name                Channel_id\n",
       "0           Codecademy  UC5CMtpogD_P3mOoeiDHD5eQ\n",
       "1               GitHub  UC7c3Kb6jYCRj4JOHHZTxKsQ\n",
       "2  Amazon Web Services  UCd6MoB9NC6uYN2grvUNT-Zg\n",
       "3      Microsoft Azure  UC0m-80FnNY2Qb7obvTL_2fA"
      ]
     },
     "execution_count": 32,
     "metadata": {},
     "output_type": "execute_result"
    }
   ],
   "source": [
    "df_channels"
   ]
  },
  {
   "cell_type": "code",
   "execution_count": 33,
   "metadata": {},
   "outputs": [
    {
     "name": "stderr",
     "output_type": "stream",
     "text": [
      "100%|\u001b[32m██████████\u001b[0m| 4/4 [00:01<00:00,  2.82it/s]\n"
     ]
    }
   ],
   "source": [
    "channels_df = channel_stats(df_channels, API_KEY)"
   ]
  },
  {
   "cell_type": "code",
   "execution_count": 37,
   "metadata": {},
   "outputs": [
    {
     "data": {
      "text/html": [
       "<div>\n",
       "<style scoped>\n",
       "    .dataframe tbody tr th:only-of-type {\n",
       "        vertical-align: middle;\n",
       "    }\n",
       "\n",
       "    .dataframe tbody tr th {\n",
       "        vertical-align: top;\n",
       "    }\n",
       "\n",
       "    .dataframe thead th {\n",
       "        text-align: right;\n",
       "    }\n",
       "</style>\n",
       "<table border=\"1\" class=\"dataframe\">\n",
       "  <thead>\n",
       "    <tr style=\"text-align: right;\">\n",
       "      <th></th>\n",
       "      <th>Channel_name</th>\n",
       "      <th>Subscribers</th>\n",
       "      <th>Video_Count</th>\n",
       "      <th>Total_Views</th>\n",
       "      <th>created_at</th>\n",
       "    </tr>\n",
       "  </thead>\n",
       "  <tbody>\n",
       "    <tr>\n",
       "      <th>0</th>\n",
       "      <td>Codecademy</td>\n",
       "      <td>289000</td>\n",
       "      <td>270</td>\n",
       "      <td>28801439</td>\n",
       "      <td>2023-12-27</td>\n",
       "    </tr>\n",
       "    <tr>\n",
       "      <th>1</th>\n",
       "      <td>GitHub</td>\n",
       "      <td>340000</td>\n",
       "      <td>1705</td>\n",
       "      <td>14681711</td>\n",
       "      <td>2023-12-27</td>\n",
       "    </tr>\n",
       "    <tr>\n",
       "      <th>2</th>\n",
       "      <td>Amazon Web Services</td>\n",
       "      <td>722000</td>\n",
       "      <td>15932</td>\n",
       "      <td>349611877</td>\n",
       "      <td>2023-12-27</td>\n",
       "    </tr>\n",
       "    <tr>\n",
       "      <th>3</th>\n",
       "      <td>Microsoft Azure</td>\n",
       "      <td>303000</td>\n",
       "      <td>1506</td>\n",
       "      <td>24624056</td>\n",
       "      <td>2023-12-27</td>\n",
       "    </tr>\n",
       "  </tbody>\n",
       "</table>\n",
       "</div>"
      ],
      "text/plain": [
       "          Channel_name  Subscribers  Video_Count  Total_Views  created_at\n",
       "0           Codecademy       289000          270     28801439  2023-12-27\n",
       "1               GitHub       340000         1705     14681711  2023-12-27\n",
       "2  Amazon Web Services       722000        15932    349611877  2023-12-27\n",
       "3      Microsoft Azure       303000         1506     24624056  2023-12-27"
      ]
     },
     "execution_count": 37,
     "metadata": {},
     "output_type": "execute_result"
    }
   ],
   "source": [
    "channels_df"
   ]
  },
  {
   "cell_type": "code",
   "execution_count": 34,
   "metadata": {},
   "outputs": [],
   "source": [
    "channels_df.to_csv(\"channels_to_analize.csv\", encoding='utf-8', index=False)"
   ]
  },
  {
   "cell_type": "code",
   "execution_count": 35,
   "metadata": {},
   "outputs": [],
   "source": [
    "test = pd.read_csv(\"channels_to_analize.csv\")"
   ]
  },
  {
   "cell_type": "code",
   "execution_count": 38,
   "metadata": {},
   "outputs": [
    {
     "data": {
      "text/html": [
       "<div>\n",
       "<style scoped>\n",
       "    .dataframe tbody tr th:only-of-type {\n",
       "        vertical-align: middle;\n",
       "    }\n",
       "\n",
       "    .dataframe tbody tr th {\n",
       "        vertical-align: top;\n",
       "    }\n",
       "\n",
       "    .dataframe thead th {\n",
       "        text-align: right;\n",
       "    }\n",
       "</style>\n",
       "<table border=\"1\" class=\"dataframe\">\n",
       "  <thead>\n",
       "    <tr style=\"text-align: right;\">\n",
       "      <th></th>\n",
       "      <th>Channel_name</th>\n",
       "      <th>Subscribers</th>\n",
       "      <th>Video_Count</th>\n",
       "      <th>Total_Views</th>\n",
       "      <th>created_at</th>\n",
       "    </tr>\n",
       "  </thead>\n",
       "  <tbody>\n",
       "    <tr>\n",
       "      <th>0</th>\n",
       "      <td>Codecademy</td>\n",
       "      <td>289000</td>\n",
       "      <td>270</td>\n",
       "      <td>28801439</td>\n",
       "      <td>2023-12-27</td>\n",
       "    </tr>\n",
       "    <tr>\n",
       "      <th>1</th>\n",
       "      <td>GitHub</td>\n",
       "      <td>340000</td>\n",
       "      <td>1705</td>\n",
       "      <td>14681711</td>\n",
       "      <td>2023-12-27</td>\n",
       "    </tr>\n",
       "    <tr>\n",
       "      <th>2</th>\n",
       "      <td>Amazon Web Services</td>\n",
       "      <td>722000</td>\n",
       "      <td>15932</td>\n",
       "      <td>349611877</td>\n",
       "      <td>2023-12-27</td>\n",
       "    </tr>\n",
       "    <tr>\n",
       "      <th>3</th>\n",
       "      <td>Microsoft Azure</td>\n",
       "      <td>303000</td>\n",
       "      <td>1506</td>\n",
       "      <td>24624056</td>\n",
       "      <td>2023-12-27</td>\n",
       "    </tr>\n",
       "  </tbody>\n",
       "</table>\n",
       "</div>"
      ],
      "text/plain": [
       "          Channel_name  Subscribers  Video_Count  Total_Views  created_at\n",
       "0           Codecademy       289000          270     28801439  2023-12-27\n",
       "1               GitHub       340000         1705     14681711  2023-12-27\n",
       "2  Amazon Web Services       722000        15932    349611877  2023-12-27\n",
       "3      Microsoft Azure       303000         1506     24624056  2023-12-27"
      ]
     },
     "execution_count": 38,
     "metadata": {},
     "output_type": "execute_result"
    }
   ],
   "source": [
    "test"
   ]
  }
 ],
 "metadata": {
  "kernelspec": {
   "display_name": "base",
   "language": "python",
   "name": "python3"
  },
  "language_info": {
   "codemirror_mode": {
    "name": "ipython",
    "version": 3
   },
   "file_extension": ".py",
   "mimetype": "text/x-python",
   "name": "python",
   "nbconvert_exporter": "python",
   "pygments_lexer": "ipython3",
   "version": "3.10.13"
  }
 },
 "nbformat": 4,
 "nbformat_minor": 2
}
